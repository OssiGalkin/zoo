{
 "cells": [
  {
   "cell_type": "code",
   "execution_count": null,
   "metadata": {
    "collapsed": true,
    "slideshow": {
     "slide_type": "skip"
    }
   },
   "outputs": [],
   "source": [
    "import numpy as np\n",
    "import matplotlib.pyplot as plt\n",
    "import scipy.stats\n",
    "from functools import partial\n",
    "\n",
    "%matplotlib inline"
   ]
  },
  {
   "cell_type": "code",
   "execution_count": null,
   "metadata": {
    "collapsed": true,
    "slideshow": {
     "slide_type": "skip"
    }
   },
   "outputs": [],
   "source": [
    "import logging\n",
    "logging.basicConfig(level=logging.CRITICAL)"
   ]
  },
  {
   "cell_type": "code",
   "execution_count": null,
   "metadata": {
    "collapsed": true,
    "slideshow": {
     "slide_type": "skip"
    }
   },
   "outputs": [],
   "source": [
    "import matplotlib as mpl\n",
    "mpl.rcParams['font.size'] = 14"
   ]
  },
  {
   "cell_type": "markdown",
   "metadata": {
    "slideshow": {
     "slide_type": "slide"
    }
   },
   "source": [
    "# ELFI - Engine for Likelihood-Free Inference\n"
   ]
  },
  {
   "cell_type": "markdown",
   "metadata": {},
   "source": [
    "European Meeting of Statisticians\n",
    "July 25th, 2017\n",
    "\n",
    "Antti Kangasrääsiö\n",
    "Aalto University, Probabilistic Machine Learning Research Group\n",
    "\n",
    "Joint work with:\n",
    "Jarno Lintusaari (Aalto), Henri Vuollekoski (Aalto), Kusti Skytén (Aalto), Marko Järvenpää (Aalto), Michael Gutmann (University of Edinburgh), Aki Vehtari (Aalto), Jukka Corander (University of Oslo), Samuel Kaski (Aalto)"
   ]
  },
  {
   "cell_type": "markdown",
   "metadata": {
    "slideshow": {
     "slide_type": "slide"
    }
   },
   "source": [
    "## Example: the 2nd order Moving Average model (MA2)"
   ]
  },
  {
   "cell_type": "markdown",
   "metadata": {},
   "source": [
    "$$\n",
    "y_t = w_t + \\theta_1 w_{t-1} + \\theta_2 w_{t-2}\n",
    "$$"
   ]
  },
  {
   "cell_type": "code",
   "execution_count": null,
   "metadata": {
    "collapsed": true,
    "slideshow": {
     "slide_type": "fragment"
    }
   },
   "outputs": [],
   "source": [
    "def MA2(t1, t2, n_obs=100, batch_size=1, random_state=None):\n",
    "    t1 = np.atleast_2d(t1).reshape(-1,1)\n",
    "    t2 = np.atleast_2d(t2).reshape(-1,1)\n",
    "    w = random_state.randn(batch_size, n_obs+2)\n",
    "    y = w[:, 2:] + (t1 * w[:, 1:-1]) + (t2 * w[:, :-2])\n",
    "    return y "
   ]
  },
  {
   "cell_type": "markdown",
   "metadata": {
    "slideshow": {
     "slide_type": "slide"
    }
   },
   "source": [
    "### Generate some \"observed\" data:"
   ]
  },
  {
   "cell_type": "code",
   "execution_count": null,
   "metadata": {},
   "outputs": [],
   "source": [
    "# true parameters\n",
    "t1_true = 0.6\n",
    "t2_true = 0.2\n",
    "\n",
    "# Set up observed data y with some random seed\n",
    "rs = np.random.RandomState(2017)\n",
    "y_obs = MA2(t1_true, t2_true, random_state=rs)\n",
    "\n",
    "# Plot the observed sequence\n",
    "plt.figure(figsize=(11, 6));\n",
    "plt.plot(y_obs.flatten());"
   ]
  },
  {
   "cell_type": "markdown",
   "metadata": {
    "slideshow": {
     "slide_type": "slide"
    }
   },
   "source": [
    "### To illustrate the stochasticity, let's plot a couple of more observations with the same true parameters:"
   ]
  },
  {
   "cell_type": "code",
   "execution_count": null,
   "metadata": {
    "slideshow": {
     "slide_type": "-"
    }
   },
   "outputs": [],
   "source": [
    "plt.figure(figsize=(11, 6));\n",
    "plt.plot(y_obs.flatten());\n",
    "plt.plot(MA2(t1_true, t2_true, random_state=rs).flatten());\n",
    "plt.plot(MA2(t1_true, t2_true, random_state=rs).flatten());"
   ]
  },
  {
   "cell_type": "markdown",
   "metadata": {
    "slideshow": {
     "slide_type": "fragment"
    }
   },
   "source": [
    "### How can you compare these?"
   ]
  },
  {
   "cell_type": "markdown",
   "metadata": {
    "slideshow": {
     "slide_type": "slide"
    }
   },
   "source": [
    "### Comparing noisy data"
   ]
  },
  {
   "cell_type": "markdown",
   "metadata": {
    "slideshow": {
     "slide_type": "-"
    }
   },
   "source": [
    "Calculate the discrepancy (distance) between some summary statistics, like the first two autocovariances:"
   ]
  },
  {
   "cell_type": "code",
   "execution_count": null,
   "metadata": {
    "collapsed": true,
    "slideshow": {
     "slide_type": "fragment"
    }
   },
   "outputs": [],
   "source": [
    "def autocov(x, lag=1):\n",
    "    mu = np.mean(x, axis=1, keepdims=True)\n",
    "    C = np.mean(x[:,lag:] * x[:,:-lag], axis=1, keepdims=True) - mu**2.\n",
    "    return C\n",
    "\n",
    "def distance(*simulated, observed):\n",
    "    d = np.linalg.norm(np.array(simulated) - np.array(observed),\n",
    "                       ord=2, axis=0)\n",
    "    return d"
   ]
  },
  {
   "cell_type": "markdown",
   "metadata": {
    "slideshow": {
     "slide_type": "fragment"
    }
   },
   "source": [
    "And then what?"
   ]
  },
  {
   "cell_type": "code",
   "execution_count": null,
   "metadata": {
    "collapsed": true,
    "slideshow": {
     "slide_type": "fragment"
    }
   },
   "outputs": [],
   "source": [
    "import elfi"
   ]
  },
  {
   "cell_type": "markdown",
   "metadata": {
    "slideshow": {
     "slide_type": "slide"
    }
   },
   "source": [
    "## Using ELFI to infer the parameters"
   ]
  },
  {
   "cell_type": "code",
   "execution_count": null,
   "metadata": {
    "collapsed": true,
    "slideshow": {
     "slide_type": "fragment"
    }
   },
   "outputs": [],
   "source": [
    "t1 = elfi.Prior(scipy.stats.uniform, 0, 2)\n",
    "t2 = elfi.Prior('uniform', 0, 2)"
   ]
  },
  {
   "cell_type": "code",
   "execution_count": null,
   "metadata": {
    "collapsed": true,
    "slideshow": {
     "slide_type": "fragment"
    }
   },
   "outputs": [],
   "source": [
    "Y = elfi.Simulator(MA2, t1, t2, observed=y_obs)"
   ]
  },
  {
   "cell_type": "code",
   "execution_count": null,
   "metadata": {
    "collapsed": true,
    "slideshow": {
     "slide_type": "fragment"
    }
   },
   "outputs": [],
   "source": [
    "S1 = elfi.Summary(autocov, Y)\n",
    "\n",
    "autocov2 = partial(autocov, lag=2)\n",
    "S2 = elfi.Summary(autocov2, Y)"
   ]
  },
  {
   "cell_type": "code",
   "execution_count": null,
   "metadata": {
    "collapsed": true,
    "slideshow": {
     "slide_type": "fragment"
    }
   },
   "outputs": [],
   "source": [
    "d = elfi.Discrepancy(distance, S1, S2)"
   ]
  },
  {
   "cell_type": "code",
   "execution_count": null,
   "metadata": {
    "slideshow": {
     "slide_type": "fragment"
    }
   },
   "outputs": [],
   "source": [
    "elfi.draw(d)"
   ]
  },
  {
   "cell_type": "markdown",
   "metadata": {
    "slideshow": {
     "slide_type": "slide"
    }
   },
   "source": [
    "### We could proceed... but being equal is not always nice"
   ]
  },
  {
   "cell_type": "code",
   "execution_count": null,
   "metadata": {
    "collapsed": true,
    "slideshow": {
     "slide_type": "fragment"
    }
   },
   "outputs": [],
   "source": [
    "class CustomPrior_t1(elfi.Distribution):\n",
    "    def rvs(b, size=1, random_state=None):\n",
    "        u = scipy.stats.uniform.rvs(loc=0, scale=1, size=size,\n",
    "                                    random_state=random_state)\n",
    "        t1 = np.where(u<0.5, np.sqrt(2.*u)*b-b, -np.sqrt(2.*(1.-u))*b+b)\n",
    "        return t1\n",
    "    \n",
    "    def pdf(x, b):\n",
    "        p = 1./b - np.abs(x) / (b*b)\n",
    "        p = np.where(p < 0., 0., p)\n",
    "        return p\n",
    "\n",
    "class CustomPrior_t2(elfi.Distribution):\n",
    "    def rvs(t1, a, size=1, random_state=None):\n",
    "        locs = np.maximum(-a-t1, t1-a)\n",
    "        scales = a - locs\n",
    "        t2 = scipy.stats.uniform.rvs(loc=locs, scale=scales, size=size, \n",
    "                                     random_state=random_state)\n",
    "        return t2\n",
    "    \n",
    "    def pdf(x, t1, a):\n",
    "        locs = np.maximum(-a-t1, t1-a)\n",
    "        scales = a - locs\n",
    "        p = scipy.stats.uniform.pdf(x, loc=locs, scale=scales)\n",
    "        p = np.where(scales>0., p, 0.)\n",
    "        return p"
   ]
  },
  {
   "cell_type": "markdown",
   "metadata": {
    "slideshow": {
     "slide_type": "slide"
    }
   },
   "source": [
    "### These priors sample from a triangle"
   ]
  },
  {
   "cell_type": "markdown",
   "metadata": {
    "slideshow": {
     "slide_type": "-"
    }
   },
   "source": [
    "$-2<\\theta_1<2$ with $\\theta_1+\\theta_2>-1$ and $\\theta_1-\\theta_2<1$"
   ]
  },
  {
   "cell_type": "code",
   "execution_count": null,
   "metadata": {},
   "outputs": [],
   "source": [
    "t1_1000 = CustomPrior_t1.rvs(2, 1000)\n",
    "t2_1000 = CustomPrior_t2.rvs(t1_1000, 1, 1000)\n",
    "plt.scatter(t1_1000, t2_1000, s=8, edgecolor='none');"
   ]
  },
  {
   "cell_type": "markdown",
   "metadata": {
    "slideshow": {
     "slide_type": "slide"
    }
   },
   "source": [
    "### Redefine the model with these priors"
   ]
  },
  {
   "cell_type": "code",
   "execution_count": null,
   "metadata": {},
   "outputs": [],
   "source": [
    "elfi.new_model()\n",
    "\n",
    "t1 = elfi.Prior(CustomPrior_t1, 2)\n",
    "t2 = elfi.Prior(CustomPrior_t2, t1, 1)\n",
    "Y = elfi.Simulator(MA2, t1, t2, observed=y_obs)\n",
    "S1 = elfi.Summary(autocov, Y)\n",
    "S2 = elfi.Summary(autocov2, Y)\n",
    "d = elfi.Discrepancy(distance, S1, S2)\n",
    "\n",
    "elfi.draw(d)"
   ]
  },
  {
   "cell_type": "markdown",
   "metadata": {
    "slideshow": {
     "slide_type": "slide"
    }
   },
   "source": [
    "### Now we just sample *a lot* to get an approximate posterior"
   ]
  },
  {
   "cell_type": "code",
   "execution_count": null,
   "metadata": {
    "collapsed": true,
    "slideshow": {
     "slide_type": "skip"
    }
   },
   "outputs": [],
   "source": [
    "# make sure we have the native client\n",
    "from elfi.clients.native import set_as_default\n",
    "set_as_default()"
   ]
  },
  {
   "cell_type": "code",
   "execution_count": null,
   "metadata": {},
   "outputs": [],
   "source": [
    "rej = elfi.Rejection(d, [t1, t2], batch_size=10000)\n",
    "\n",
    "%time result = rej.sample(100000, n_sim=1000000)"
   ]
  },
  {
   "cell_type": "code",
   "execution_count": null,
   "metadata": {
    "slideshow": {
     "slide_type": "fragment"
    }
   },
   "outputs": [],
   "source": [
    "result.summary()"
   ]
  },
  {
   "cell_type": "code",
   "execution_count": null,
   "metadata": {
    "slideshow": {
     "slide_type": "fragment"
    }
   },
   "outputs": [],
   "source": [
    "ax = result.plot_marginals();\n",
    "ax[0].axvline(t1_true, color='r');\n",
    "ax[1].axvline(t2_true, color='r');"
   ]
  },
  {
   "cell_type": "code",
   "execution_count": null,
   "metadata": {
    "slideshow": {
     "slide_type": "slide"
    }
   },
   "outputs": [],
   "source": [
    "result.plot_pairs(s=8);"
   ]
  },
  {
   "cell_type": "markdown",
   "metadata": {
    "slideshow": {
     "slide_type": "slide"
    }
   },
   "source": [
    "## Let's do that in parallel!"
   ]
  },
  {
   "cell_type": "markdown",
   "metadata": {},
   "source": [
    "Currently ELFI supports the powerful *ipyparallel* library for parallel and distributed computing."
   ]
  },
  {
   "cell_type": "code",
   "execution_count": null,
   "metadata": {
    "collapsed": true,
    "slideshow": {
     "slide_type": "fragment"
    }
   },
   "outputs": [],
   "source": [
    "from elfi.clients.multiprocessing import set_as_default\n",
    "set_as_default()"
   ]
  },
  {
   "cell_type": "code",
   "execution_count": null,
   "metadata": {
    "slideshow": {
     "slide_type": "fragment"
    }
   },
   "outputs": [],
   "source": [
    "rej = elfi.Rejection(d, [t1, t2], batch_size=10000)\n",
    "\n",
    "%time result_parallel = rej.sample(100000, n_sim=1000000)"
   ]
  },
  {
   "cell_type": "code",
   "execution_count": null,
   "metadata": {},
   "outputs": [],
   "source": [
    "result_parallel.summary()"
   ]
  },
  {
   "cell_type": "markdown",
   "metadata": {
    "slideshow": {
     "slide_type": "slide"
    }
   },
   "source": [
    "## Sequential Monte Carlo ABC (Importance sampling)"
   ]
  },
  {
   "cell_type": "code",
   "execution_count": null,
   "metadata": {
    "collapsed": true,
    "slideshow": {
     "slide_type": "fragment"
    }
   },
   "outputs": [],
   "source": [
    "smc = elfi.SMC(d, [t1, t2], batch_size=10000)\n",
    "\n",
    "schedule = [0.7, 0.2, 0.05]\n",
    "\n",
    "result_smc = smc.sample(1000, schedule)"
   ]
  },
  {
   "cell_type": "code",
   "execution_count": null,
   "metadata": {
    "slideshow": {
     "slide_type": "fragment"
    }
   },
   "outputs": [],
   "source": [
    "result_smc.summary()"
   ]
  },
  {
   "cell_type": "code",
   "execution_count": null,
   "metadata": {
    "slideshow": {
     "slide_type": "slide"
    }
   },
   "outputs": [],
   "source": [
    "result_smc.plot_marginals(all=True, bins=25, figsize=(6, 1), fontsize=12)"
   ]
  },
  {
   "cell_type": "markdown",
   "metadata": {
    "slideshow": {
     "slide_type": "slide"
    }
   },
   "source": [
    "## BOLFI (Bayesian Optimization for Likelihood-Free Inference)"
   ]
  },
  {
   "cell_type": "code",
   "execution_count": null,
   "metadata": {
    "collapsed": true,
    "slideshow": {
     "slide_type": "fragment"
    }
   },
   "outputs": [],
   "source": [
    "log_d = elfi.Operation(np.log, d)"
   ]
  },
  {
   "cell_type": "code",
   "execution_count": null,
   "metadata": {
    "collapsed": true,
    "slideshow": {
     "slide_type": "fragment"
    }
   },
   "outputs": [],
   "source": [
    "bolfi = elfi.BOLFI(log_d, batch_size=5, initial_evidence=20, update_interval=10, \n",
    "                   bounds={'t1':(-2, 2), 't2':(-1, 1)}, acq_noise_var=[0.1, 0.1])\n",
    "post = bolfi.fit(n_evidence=100)"
   ]
  },
  {
   "cell_type": "markdown",
   "metadata": {
    "slideshow": {
     "slide_type": "slide"
    }
   },
   "source": [
    "### ELFI currently uses GPy for Gaussian processes"
   ]
  },
  {
   "cell_type": "code",
   "execution_count": null,
   "metadata": {
    "slideshow": {
     "slide_type": "fragment"
    }
   },
   "outputs": [],
   "source": [
    "bolfi.target_model"
   ]
  },
  {
   "cell_type": "code",
   "execution_count": null,
   "metadata": {},
   "outputs": [],
   "source": [
    "bolfi.plot_state()"
   ]
  },
  {
   "cell_type": "code",
   "execution_count": null,
   "metadata": {
    "collapsed": true,
    "slideshow": {
     "slide_type": "skip"
    }
   },
   "outputs": [],
   "source": [
    "# ignore plotting warning\n",
    "import warnings\n",
    "warnings.simplefilter(\"ignore\")"
   ]
  },
  {
   "cell_type": "code",
   "execution_count": null,
   "metadata": {
    "scrolled": true
   },
   "outputs": [],
   "source": [
    "bolfi.target_model._gp.plot();"
   ]
  },
  {
   "cell_type": "code",
   "execution_count": null,
   "metadata": {
    "slideshow": {
     "slide_type": "slide"
    }
   },
   "outputs": [],
   "source": [
    "post.plot(logpdf=False)"
   ]
  },
  {
   "cell_type": "code",
   "execution_count": null,
   "metadata": {},
   "outputs": [],
   "source": [
    "%time result_bolfi = bolfi.sample(10)"
   ]
  },
  {
   "cell_type": "code",
   "execution_count": null,
   "metadata": {
    "slideshow": {
     "slide_type": "slide"
    }
   },
   "outputs": [],
   "source": [
    "result_bolfi.plot_traces();"
   ]
  },
  {
   "cell_type": "code",
   "execution_count": null,
   "metadata": {},
   "outputs": [],
   "source": [
    "result_bolfi.summary()"
   ]
  },
  {
   "cell_type": "code",
   "execution_count": null,
   "metadata": {
    "collapsed": true
   },
   "outputs": [],
   "source": []
  }
 ],
 "metadata": {
  "celltoolbar": "Slideshow",
  "kernelspec": {
   "display_name": "Python 3",
   "language": "python",
   "name": "python3"
  },
  "language_info": {
   "codemirror_mode": {
    "name": "ipython",
    "version": 3
   },
   "file_extension": ".py",
   "mimetype": "text/x-python",
   "name": "python",
   "nbconvert_exporter": "python",
   "pygments_lexer": "ipython3",
   "version": "3.5.2"
  }
 },
 "nbformat": 4,
 "nbformat_minor": 2
}
